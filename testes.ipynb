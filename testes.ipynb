{
 "cells": [
  {
   "cell_type": "code",
   "execution_count": 1,
   "metadata": {},
   "outputs": [],
   "source": [
    "import pandas as pd\n",
    "import numpy as np\n",
    "import scipy.optimize as optimize\n",
    "\n"
   ]
  },
  {
   "cell_type": "code",
   "execution_count": 2,
   "metadata": {},
   "outputs": [],
   "source": [
    "par = 1000\n"
   ]
  },
  {
   "cell_type": "code",
   "execution_count": 3,
   "metadata": {},
   "outputs": [
    {
     "data": {
      "text/plain": [
       "0.19999999999999996"
      ]
     },
     "execution_count": 3,
     "metadata": {},
     "output_type": "execute_result"
    }
   ],
   "source": [
    "\n",
    "\n",
    "\n",
    "def bond_ytm(price, par, T, coup, freq=2, guess=0.05):\n",
    "    freq = float(freq)\n",
    "    periods = T*freq\n",
    "    coupon = coup/100.*par/freq\n",
    "    dt = [(i+1)/freq for i in range(int(periods))]\n",
    "    ytm_func = lambda y: sum([coupon/(1+y/freq)**(freq*t) for t in dt]) + par/(1+y/freq)**(freq*T) - price\n",
    "        \n",
    "        \n",
    "        \n",
    "    return optimize.newton(ytm_func, guess)\n",
    "\n",
    "\n",
    "ytm = bond_ytm(1000, 1000, 10, 20, 2)\n",
    "ytm"
   ]
  },
  {
   "cell_type": "code",
   "execution_count": 4,
   "metadata": {},
   "outputs": [
    {
     "data": {
      "text/plain": [
       "1000.0000000000003"
      ]
     },
     "execution_count": 4,
     "metadata": {},
     "output_type": "execute_result"
    }
   ],
   "source": [
    "def bond_price(par, T, ytm, coup, freq=2):\n",
    "    freq = float(freq)\n",
    "    periods = T*freq\n",
    "    coupon = (coup/100)*par/freq\n",
    "    dt = [(i+1)/freq for i in range(int(periods))]\n",
    "    price = sum([coupon/(1+ytm/freq)**(freq*t) for t in dt]) + \\\n",
    "            par/(1+ytm/freq)**(freq*T)\n",
    "    return price\n",
    "\n",
    "\n",
    "pv = bond_price(1000, 10, 0.15, 15)\n",
    "pv"
   ]
  },
  {
   "cell_type": "code",
   "execution_count": 5,
   "metadata": {},
   "outputs": [
    {
     "data": {
      "text/plain": [
       "1000.6407513344584"
      ]
     },
     "execution_count": 5,
     "metadata": {},
     "output_type": "execute_result"
    }
   ],
   "source": [
    "def bond_fv(price, T, ytm, coup, freq=2):\n",
    "    periods = T * freq\n",
    "    coupon_payment = coup / freq\n",
    "    fv = 0\n",
    "\n",
    "    for i in range(1, periods + 1):\n",
    "        fv = coupon_payment / ((1 + ytm**0.5) ** i)\n",
    "    vf = fv+1000\n",
    "\n",
    "   \n",
    "\n",
    "    return vf\n",
    "\n",
    "bond_fv(5, 5, 0.1, 20)"
   ]
  },
  {
   "cell_type": "code",
   "execution_count": 26,
   "metadata": {},
   "outputs": [
    {
     "data": {
      "text/plain": [
       "5.20952380952381"
      ]
     },
     "execution_count": 26,
     "metadata": {},
     "output_type": "execute_result"
    }
   ],
   "source": [
    "def bond_macaulay_d(y, c, h, n):\n",
    "    dura = (1+y/y)*h+(y-c/y)*n*(1-h)\n",
    "    return dura\n",
    "\n",
    "bond_macaulay_d(1.05, 0.05, 0.6, 10)"
   ]
  },
  {
   "cell_type": "code",
   "execution_count": 7,
   "metadata": {},
   "outputs": [],
   "source": [
    "def effective_duration(price, par, T, coup, freq=2, dy=0.01):\n",
    "    ytm = bond_ytm(price, par, T, coup)\n",
    "    \n",
    "    ytm_minus = ytm - dy   \n",
    "    price_minus = bond_price(par, T, ytm_minus, coup, freq)\n",
    "    \n",
    "    ytm_plus = ytm + dy\n",
    "    price_plus = bond_price(par, T, ytm_plus, coup, freq)\n",
    "    \n",
    "    mduration = (price_minus-price_plus)/(2*price*dy)\n",
    "    return mduration\n",
    "\n"
   ]
  },
  {
   "cell_type": "code",
   "execution_count": null,
   "metadata": {},
   "outputs": [],
   "source": []
  },
  {
   "cell_type": "code",
   "execution_count": 8,
   "metadata": {},
   "outputs": [
    {
     "data": {
      "text/plain": [
       "7.541082988354901"
      ]
     },
     "execution_count": 8,
     "metadata": {},
     "output_type": "execute_result"
    }
   ],
   "source": [
    "def bond_convexity(price, par, T, coup, freq=2, dy=0.01):\n",
    "    ytm = bond_ytm(price, par, T, coup, freq)\n",
    "\n",
    "    ytm_minus = ytm - dy    \n",
    "    price_minus = bond_price(par, T, ytm_minus, coup, freq)\n",
    "    \n",
    "    ytm_plus = ytm + dy\n",
    "    price_plus = bond_price(par, T, ytm_plus, coup, freq)\n",
    "    \n",
    "    convexity = (price_minus+price_plus-2*price)/(price*dy**2)\n",
    "    return convexity\n",
    "\n",
    "bond_convexity(1000, 1000, 10, 50, 2)\n"
   ]
  },
  {
   "cell_type": "code",
   "execution_count": null,
   "metadata": {},
   "outputs": [],
   "source": [
    "\n",
    "    "
   ]
  },
  {
   "cell_type": "code",
   "execution_count": 9,
   "metadata": {},
   "outputs": [
    {
     "data": {
      "text/html": [
       "<div>\n",
       "<style scoped>\n",
       "    .dataframe tbody tr th:only-of-type {\n",
       "        vertical-align: middle;\n",
       "    }\n",
       "\n",
       "    .dataframe tbody tr th {\n",
       "        vertical-align: top;\n",
       "    }\n",
       "\n",
       "    .dataframe thead th {\n",
       "        text-align: right;\n",
       "    }\n",
       "</style>\n",
       "<table border=\"1\" class=\"dataframe\">\n",
       "  <thead>\n",
       "    <tr style=\"text-align: right;\">\n",
       "      <th></th>\n",
       "      <th>CDI Futuro</th>\n",
       "    </tr>\n",
       "    <tr>\n",
       "      <th>Ano</th>\n",
       "      <th></th>\n",
       "    </tr>\n",
       "  </thead>\n",
       "  <tbody>\n",
       "    <tr>\n",
       "      <th>2024</th>\n",
       "      <td>0.009314</td>\n",
       "    </tr>\n",
       "    <tr>\n",
       "      <th>2025</th>\n",
       "      <td>0.009056</td>\n",
       "    </tr>\n",
       "    <tr>\n",
       "      <th>2026</th>\n",
       "      <td>0.008703</td>\n",
       "    </tr>\n",
       "    <tr>\n",
       "      <th>2027</th>\n",
       "      <td>0.009796</td>\n",
       "    </tr>\n",
       "    <tr>\n",
       "      <th>2028</th>\n",
       "      <td>0.008800</td>\n",
       "    </tr>\n",
       "    <tr>\n",
       "      <th>2029</th>\n",
       "      <td>0.008829</td>\n",
       "    </tr>\n",
       "    <tr>\n",
       "      <th>2030</th>\n",
       "      <td>0.007531</td>\n",
       "    </tr>\n",
       "    <tr>\n",
       "      <th>2031</th>\n",
       "      <td>0.007510</td>\n",
       "    </tr>\n",
       "    <tr>\n",
       "      <th>2032</th>\n",
       "      <td>0.008096</td>\n",
       "    </tr>\n",
       "    <tr>\n",
       "      <th>2033</th>\n",
       "      <td>0.008766</td>\n",
       "    </tr>\n",
       "  </tbody>\n",
       "</table>\n",
       "</div>"
      ],
      "text/plain": [
       "      CDI Futuro\n",
       "Ano             \n",
       "2024    0.009314\n",
       "2025    0.009056\n",
       "2026    0.008703\n",
       "2027    0.009796\n",
       "2028    0.008800\n",
       "2029    0.008829\n",
       "2030    0.007531\n",
       "2031    0.007510\n",
       "2032    0.008096\n",
       "2033    0.008766"
      ]
     },
     "execution_count": 9,
     "metadata": {},
     "output_type": "execute_result"
    }
   ],
   "source": [
    "#Sistema para gerar titulos \n",
    "cdi_gen = np.random.uniform(0, 0.20)\n",
    "\n",
    "cdif = [cdi_gen]\n",
    "\n",
    "for i in range(9):\n",
    "    cdi_gen = cdi_gen * (1 + np.random.uniform(-0.15, 0.15))\n",
    "    cdif.append(cdi_gen)\n",
    "\n",
    "\n",
    "t_anos = 10\n",
    "\n",
    "anos = [pd.Timestamp(year=i+2024, month=1, day=1) for i in range(t_anos)]\n",
    "\n",
    "\n",
    "cdi = pd.DataFrame({\"CDI Futuro\" : cdif, \"Ano\" : anos})\n",
    "\n",
    "cdi['Ano'] = pd.to_datetime(cdi['Ano'])\n",
    "\n",
    "cdi['Ano'] = cdi['Ano'].dt.year.astype(str)\n",
    "\n",
    "cdi.set_index(\"Ano\")\n",
    "\n",
    "    \n",
    "    "
   ]
  },
  {
   "cell_type": "code",
   "execution_count": 10,
   "metadata": {},
   "outputs": [],
   "source": [
    "class bonds:\n",
    "    def __init__(self):\n",
    "        self.par_value = 1000\n",
    "        self.coupon = np.random.randint(low=0, high= self.par_value*0.05)\n",
    "        self.maturity = np.random.randint(2024, 2033)\n",
    "        self.vencimento = self.maturity - 2023\n",
    "        ano_maturidade = str(self.maturity)\n",
    "        \n",
    "        \n",
    "        \n",
    "        \n",
    "        for index, row in cdi.iterrows():\n",
    "            if row['Ano'] == ano_maturidade:\n",
    "                self.ytm_init = row['CDI Futuro']\n",
    "                break\n",
    "        \n",
    "        self.pv = bond_price(self.par_value, self.vencimento,self.ytm_init , self.coupon)\n",
    "        self.efecdu = effective_duration(self.pv, self.par_value, self.vencimento, self.coupon)\n",
    "        self.convex = bond_convexity(self.pv, self.par_value,self.vencimento ,self.coupon )\n",
    "    def risco_buy(self):\n",
    "        teste = np.random.randint(low=0, high= 3)\n",
    "        if teste == 0:\n",
    "            self.ytm_init = self.ytm_init + np.random.uniform(low=0, high= 0.01)\n",
    "        elif teste == 1:\n",
    "            self.ytm_init = self.ytm_init + np.random.uniform(low=0.01, high= 0.05)\n",
    "        elif teste == 2:\n",
    "            self.ytm_init = self.ytm_init + np.random.uniform(low=0.05, high= 0.1)\n",
    "\n",
    "    def risco_sell(self):\n",
    "        teste = np.random.randint(low=0, high= 3)\n",
    "        if teste == 0:\n",
    "            self.ytm_init = self.ytm_init - np.random.uniform(low=0, high= self.ytm_init*0.1)\n",
    "        elif teste == 1:\n",
    "            self.ytm_init = self.ytm_init - np.random.uniform(low=self.ytm_init*0.1, high= self.ytm_init*0.2)\n",
    "        elif teste == 2:\n",
    "            self.ytm_init = self.ytm_init - np.random.uniform(low=self.ytm_init*0.2, high= self.ytm_init*0.3)\n",
    "        \n",
    "\n",
    "\n"
   ]
  },
  {
   "cell_type": "code",
   "execution_count": null,
   "metadata": {},
   "outputs": [],
   "source": []
  },
  {
   "cell_type": "code",
   "execution_count": 11,
   "metadata": {},
   "outputs": [
    {
     "data": {
      "text/html": [
       "<div>\n",
       "<style scoped>\n",
       "    .dataframe tbody tr th:only-of-type {\n",
       "        vertical-align: middle;\n",
       "    }\n",
       "\n",
       "    .dataframe tbody tr th {\n",
       "        vertical-align: top;\n",
       "    }\n",
       "\n",
       "    .dataframe thead th {\n",
       "        text-align: right;\n",
       "    }\n",
       "</style>\n",
       "<table border=\"1\" class=\"dataframe\">\n",
       "  <thead>\n",
       "    <tr style=\"text-align: right;\">\n",
       "      <th></th>\n",
       "      <th>Valor Presente</th>\n",
       "      <th>YTM</th>\n",
       "      <th>Vencimento</th>\n",
       "      <th>Taxa de Cupom</th>\n",
       "      <th>Duration Efetiva</th>\n",
       "      <th>Convexidade</th>\n",
       "    </tr>\n",
       "    <tr>\n",
       "      <th>Nome</th>\n",
       "      <th></th>\n",
       "      <th></th>\n",
       "      <th></th>\n",
       "      <th></th>\n",
       "      <th></th>\n",
       "      <th></th>\n",
       "    </tr>\n",
       "  </thead>\n",
       "  <tbody>\n",
       "    <tr>\n",
       "      <th>Title 1</th>\n",
       "      <td>1338.32</td>\n",
       "      <td>1.59</td>\n",
       "      <td>1</td>\n",
       "      <td>35</td>\n",
       "      <td>0.930633</td>\n",
       "      <td>1.357230</td>\n",
       "    </tr>\n",
       "    <tr>\n",
       "      <th>Title 3</th>\n",
       "      <td>1456.71</td>\n",
       "      <td>7.18</td>\n",
       "      <td>2</td>\n",
       "      <td>24</td>\n",
       "      <td>1.747012</td>\n",
       "      <td>4.145431</td>\n",
       "    </tr>\n",
       "    <tr>\n",
       "      <th>Title 5</th>\n",
       "      <td>2126.67</td>\n",
       "      <td>3.02</td>\n",
       "      <td>3</td>\n",
       "      <td>39</td>\n",
       "      <td>2.309634</td>\n",
       "      <td>7.262999</td>\n",
       "    </tr>\n",
       "    <tr>\n",
       "      <th>Title 6</th>\n",
       "      <td>2722.63</td>\n",
       "      <td>1.75</td>\n",
       "      <td>4</td>\n",
       "      <td>45</td>\n",
       "      <td>2.846734</td>\n",
       "      <td>11.060897</td>\n",
       "    </tr>\n",
       "    <tr>\n",
       "      <th>Title 7</th>\n",
       "      <td>1249.91</td>\n",
       "      <td>7.18</td>\n",
       "      <td>5</td>\n",
       "      <td>6</td>\n",
       "      <td>4.451268</td>\n",
       "      <td>23.409365</td>\n",
       "    </tr>\n",
       "    <tr>\n",
       "      <th>Title 9</th>\n",
       "      <td>3455.98</td>\n",
       "      <td>1.18</td>\n",
       "      <td>6</td>\n",
       "      <td>43</td>\n",
       "      <td>3.970430</td>\n",
       "      <td>21.393325</td>\n",
       "    </tr>\n",
       "    <tr>\n",
       "      <th>Title 2</th>\n",
       "      <td>2922.54</td>\n",
       "      <td>1.03</td>\n",
       "      <td>7</td>\n",
       "      <td>29</td>\n",
       "      <td>4.770116</td>\n",
       "      <td>30.172646</td>\n",
       "    </tr>\n",
       "    <tr>\n",
       "      <th>Title 4</th>\n",
       "      <td>4079.60</td>\n",
       "      <td>3.42</td>\n",
       "      <td>7</td>\n",
       "      <td>46</td>\n",
       "      <td>4.468759</td>\n",
       "      <td>27.178435</td>\n",
       "    </tr>\n",
       "    <tr>\n",
       "      <th>Title 8</th>\n",
       "      <td>3731.91</td>\n",
       "      <td>8.04</td>\n",
       "      <td>8</td>\n",
       "      <td>36</td>\n",
       "      <td>5.152014</td>\n",
       "      <td>35.710265</td>\n",
       "    </tr>\n",
       "    <tr>\n",
       "      <th>Title 10</th>\n",
       "      <td>1484.32</td>\n",
       "      <td>1.48</td>\n",
       "      <td>8</td>\n",
       "      <td>7</td>\n",
       "      <td>6.597547</td>\n",
       "      <td>51.979151</td>\n",
       "    </tr>\n",
       "  </tbody>\n",
       "</table>\n",
       "</div>"
      ],
      "text/plain": [
       "          Valor Presente   YTM  Vencimento  Taxa de Cupom  Duration Efetiva  \\\n",
       "Nome                                                                          \n",
       "Title 1          1338.32  1.59           1             35          0.930633   \n",
       "Title 3          1456.71  7.18           2             24          1.747012   \n",
       "Title 5          2126.67  3.02           3             39          2.309634   \n",
       "Title 6          2722.63  1.75           4             45          2.846734   \n",
       "Title 7          1249.91  7.18           5              6          4.451268   \n",
       "Title 9          3455.98  1.18           6             43          3.970430   \n",
       "Title 2          2922.54  1.03           7             29          4.770116   \n",
       "Title 4          4079.60  3.42           7             46          4.468759   \n",
       "Title 8          3731.91  8.04           8             36          5.152014   \n",
       "Title 10         1484.32  1.48           8              7          6.597547   \n",
       "\n",
       "          Convexidade  \n",
       "Nome                   \n",
       "Title 1      1.357230  \n",
       "Title 3      4.145431  \n",
       "Title 5      7.262999  \n",
       "Title 6     11.060897  \n",
       "Title 7     23.409365  \n",
       "Title 9     21.393325  \n",
       "Title 2     30.172646  \n",
       "Title 4     27.178435  \n",
       "Title 8     35.710265  \n",
       "Title 10    51.979151  "
      ]
     },
     "execution_count": 11,
     "metadata": {},
     "output_type": "execute_result"
    }
   ],
   "source": [
    "def create_bonds():\n",
    "    data = []\n",
    "    for i in range(len(cdi[\"CDI Futuro\"])):\n",
    "        bond = bonds()\n",
    "        bond.risco_buy()\n",
    "        title = f\"Title {i+1}\"\n",
    "        pv = round(bond.pv, 2)\n",
    "        ytm = round(bond.ytm_init*100, 2)\n",
    "        vencimento = (bond.vencimento)\n",
    "        cupom = (bond.coupon)\n",
    "        effec = (bond.efecdu)\n",
    "        convex = (bond.convex)\n",
    "        data.append({\"Nome\": title, \"Valor Presente\": pv, \"YTM\" : ytm, \"Vencimento\" : vencimento, \"Taxa de Cupom\" : cupom, \"Duration Efetiva\": effec, \"Convexidade\":convex})\n",
    "    df = pd.DataFrame(data)\n",
    "    df.set_index(\"Nome\", inplace=True)\n",
    "    return df.sort_values(by=\"Vencimento\", ascending=True)\n",
    "\n",
    "create_bonds()"
   ]
  },
  {
   "cell_type": "code",
   "execution_count": 12,
   "metadata": {},
   "outputs": [
    {
     "ename": "TypeError",
     "evalue": "bond_portfolio() missing 1 required positional argument: 'dados'",
     "output_type": "error",
     "traceback": [
      "\u001b[1;31m---------------------------------------------------------------------------\u001b[0m",
      "\u001b[1;31mTypeError\u001b[0m                                 Traceback (most recent call last)",
      "Cell \u001b[1;32mIn[12], line 13\u001b[0m\n\u001b[0;32m      9\u001b[0m     df \u001b[38;5;241m=\u001b[39m pd\u001b[38;5;241m.\u001b[39mDataFrame(data)\n\u001b[0;32m     11\u001b[0m     \u001b[38;5;28;01mreturn\u001b[39;00m df\u001b[38;5;241m.\u001b[39mset_index(\u001b[38;5;124m\"\u001b[39m\u001b[38;5;124mNome\u001b[39m\u001b[38;5;124m\"\u001b[39m)\n\u001b[1;32m---> 13\u001b[0m bond_portfolio()\n",
      "\u001b[1;31mTypeError\u001b[0m: bond_portfolio() missing 1 required positional argument: 'dados'"
     ]
    }
   ],
   "source": [
    "def bond_portfolio(dados):\n",
    "    data = []\n",
    "    name = \"Carteira de titulos ativos\"\n",
    "    df_base= dados\n",
    "    pv = df_base[\"Valor Presente\"].sum()\n",
    "\n",
    "    \n",
    "    data.append({\"Nome\": name, \"Valor Presente\" : pv})\n",
    "    df = pd.DataFrame(data)\n",
    "\n",
    "    return df.set_index(\"Nome\")\n",
    "\n",
    "bond_portfolio()"
   ]
  },
  {
   "cell_type": "code",
   "execution_count": null,
   "metadata": {},
   "outputs": [],
   "source": []
  }
 ],
 "metadata": {
  "kernelspec": {
   "display_name": "base",
   "language": "python",
   "name": "python3"
  },
  "language_info": {
   "codemirror_mode": {
    "name": "ipython",
    "version": 3
   },
   "file_extension": ".py",
   "mimetype": "text/x-python",
   "name": "python",
   "nbconvert_exporter": "python",
   "pygments_lexer": "ipython3",
   "version": "3.11.5"
  }
 },
 "nbformat": 4,
 "nbformat_minor": 2
}
