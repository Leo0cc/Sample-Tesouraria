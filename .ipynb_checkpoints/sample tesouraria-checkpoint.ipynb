{
 "cells": [
  {
   "cell_type": "code",
   "execution_count": 1,
   "id": "dbd4ca13-653d-4b03-aeb9-94ca70e1a829",
   "metadata": {
    "tags": []
   },
   "outputs": [],
   "source": [
    "import pandas as pd\n",
    "import numpy as np\n",
    "import matplotlib.pyplot as plt\n"
   ]
  },
  {
   "cell_type": "code",
   "execution_count": 2,
   "id": "aa17f78e-31b8-4558-86f9-51312e035ab2",
   "metadata": {
    "tags": []
   },
   "outputs": [
    {
     "data": {
      "text/plain": [
       "{'bond': 283.8, 'parameters': {'coupon_rate': 0.05, 'YTM': 0.2, 'years': 17}}"
      ]
     },
     "execution_count": 2,
     "metadata": {},
     "output_type": "execute_result"
    }
   ],
   "source": [
    "def bond_create_buy(min_value):\n",
    "    while True:\n",
    "        coupon_rate = round(np.random.uniform(0, 0.2), 2)\n",
    "        YTM = round(np.random.uniform(min_value, 0.2), 2)\n",
    "        years = np.random.randint(0, 31)  # 31 para incluir 30 anos\n",
    "        if YTM > min_value and min_value < 0.2 and coupon_rate < 0.2:\n",
    "            break\n",
    "    coupon = round(coupon_rate * 1000, 2)\n",
    "    parameters = {\n",
    "        \"coupon_rate\": coupon_rate,\n",
    "        \"YTM\": YTM,\n",
    "        \"years\": years\n",
    "    }\n",
    "  \n",
    "    return round(coupon * (1 - 1 / (1 + YTM)**years) / YTM + 1000 / (1 + YTM) ** years, 2), parameters\n",
    "\n",
    "bonds_data = {}  # Dicionário para armazenar os dados dos títulos\n",
    "\n",
    "for i in range(1, 11):  # Gerando 10 títulos\n",
    "    bond_title = f\"Title {i}\"\n",
    "    bond_data, parameters = bond_create_buy(0.11)\n",
    "    bonds_data[bond_title] = {\"bond\": bond_data, \"parameters\": parameters}\n",
    "\n",
    "bonds_data[\"Title 6\"]\n",
    "\n",
    "\n"
   ]
  },
  {
   "cell_type": "code",
   "execution_count": 3,
   "id": "c8e5d532-a722-43fb-9276-75a727b97422",
   "metadata": {},
   "outputs": [
    {
     "data": {
      "text/plain": [
       "6938"
      ]
     },
     "execution_count": 3,
     "metadata": {},
     "output_type": "execute_result"
    }
   ],
   "source": [
    "pv_buy = sum(bond_data[\"bond\"] for bond_data in bonds_data.values())\n",
    "pv_buy = round(pv_buy)\n",
    "pv_buy"
   ]
  },
  {
   "cell_type": "code",
   "execution_count": null,
   "id": "1ab0f6a7-a0e7-4133-8c6d-c548f65215ed",
   "metadata": {},
   "outputs": [],
   "source": [
    "def bond_create_sell(min_value, existing_bonds):\n",
    "    new_bonds = {}\n",
    "    for title, data in existing_bonds.items():\n",
    "        while True:\n",
    "            coupon_rate = round(np.random.uniform(0, 0.2), 2)\n",
    "            YTM = round(data[\"parameters\"][\"YTM\"] - 0.015, 2)\n",
    "            years = data[\"parameters\"][\"years\"]\n",
    "            if YTM > min_value and min_value < 0.2 and coupon_rate < 0.2:\n",
    "                break\n",
    "        coupon = round(coupon_rate * 1000, 2)\n",
    "        parameters = {\n",
    "            \"coupon_rate\": coupon_rate,\n",
    "            \"YTM\": YTM,\n",
    "            \"years\": years\n",
    "        }\n",
    "        bond_data = round(coupon * (1 - 1 / (1 + YTM)**years) / YTM + 1000 / (1 + YTM) ** years, 2)\n",
    "        new_bonds[title + \" v2\"] = {\"bond\": bond_data, \"parameters\": parameters}\n",
    "    return new_bonds\n",
    "\n",
    "# Criando mais 10 títulos com \"years\" igual e YTM 0.015 menor\n",
    "new_bonds = bond_create_sell(0.11, bonds_data)\n",
    "for title, data in new_bonds.items():\n",
    "    print(f\"{title}: {data}\")"
   ]
  },
  {
   "cell_type": "code",
   "execution_count": null,
   "id": "905628f0-b950-47d4-b229-eb0373ec17ec",
   "metadata": {},
   "outputs": [],
   "source": []
  },
  {
   "cell_type": "code",
   "execution_count": null,
   "id": "3f171e78-7d2c-49c0-815f-29115b7611aa",
   "metadata": {},
   "outputs": [],
   "source": []
  },
  {
   "cell_type": "code",
   "execution_count": null,
   "id": "eac51d46-7e13-4495-9106-04488bbc761f",
   "metadata": {},
   "outputs": [],
   "source": []
  },
  {
   "cell_type": "code",
   "execution_count": null,
   "id": "12ce030d-1958-4b6c-98c8-38dd9fa2def7",
   "metadata": {},
   "outputs": [],
   "source": []
  }
 ],
 "metadata": {
  "kernelspec": {
   "display_name": "Python 3 (ipykernel)",
   "language": "python",
   "name": "python3"
  },
  "language_info": {
   "codemirror_mode": {
    "name": "ipython",
    "version": 3
   },
   "file_extension": ".py",
   "mimetype": "text/x-python",
   "name": "python",
   "nbconvert_exporter": "python",
   "pygments_lexer": "ipython3",
   "version": "3.11.5"
  }
 },
 "nbformat": 4,
 "nbformat_minor": 5
}
