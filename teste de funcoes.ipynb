{
 "cells": [
  {
   "cell_type": "code",
   "execution_count": 1,
   "metadata": {},
   "outputs": [],
   "source": [
    "import pandas as pd\n",
    "import numpy as np\n",
    "\n",
    "import scipy.optimize as optimize\n",
    "import matplotlib.pyplot as plt"
   ]
  },
  {
   "cell_type": "code",
   "execution_count": 23,
   "metadata": {
    "tags": []
   },
   "outputs": [
    {
     "data": {
      "text/plain": [
       "900.9009009009009"
      ]
     },
     "execution_count": 23,
     "metadata": {},
     "output_type": "execute_result"
    }
   ],
   "source": [
    "def bond_price(dias, ytm):\n",
    "    price = 1000/(1+ytm)**(360/dias)\n",
    "    return price\n",
    "\n",
    "pu= bond_price(360, 0.11)\n",
    "pu"
   ]
  },
  {
   "cell_type": "code",
   "execution_count": null,
   "metadata": {},
   "outputs": [],
   "source": [
    "def bond_price(par, T, ytm, coup, freq=2):\n",
    "    freq = float(freq)\n",
    "    periods = T*freq\n",
    "    coupon = (coup/100)*par/freq\n",
    "    dt = [(i+1)/freq for i in range(int(periods))]\n",
    "    price = sum([coupon/(1+ytm/freq)**(freq*t) for t in dt]) + \\\n",
    "            par/(1+ytm/freq)**(freq*T)\n",
    "    return price"
   ]
  },
  {
   "cell_type": "code",
   "execution_count": 19,
   "metadata": {
    "tags": []
   },
   "outputs": [
    {
     "data": {
      "text/plain": [
       "(0.11111111111111116, 1.1111111111111112)"
      ]
     },
     "execution_count": 19,
     "metadata": {},
     "output_type": "execute_result"
    }
   ],
   "source": [
    "def bond_ytm(dias, price):\n",
    "\n",
    "    ytm= (1000/price)\n",
    "    ytm_periodo = ((ytm)**(360/dias))-1\n",
    "        \n",
    "        \n",
    "    return ytm_periodo, ytm\n",
    "\n",
    "\n",
    "bond_ytm(360, 900)"
   ]
  },
  {
   "cell_type": "code",
   "execution_count": 5,
   "metadata": {
    "tags": []
   },
   "outputs": [],
   "source": [
    "def bond_ytm(price, par, T, coup, freq=2, guess=0.05):\n",
    "    freq = float(freq)\n",
    "    periods = T*freq\n",
    "    coupon = coup/100.*par/freq\n",
    "    dt = [(i+1)/freq for i in range(int(periods))]\n",
    "    ytm_func = lambda y: sum([coupon/(1+y/freq)**(freq*t) for t in dt]) + par/(1+y/freq)**(freq*T) - price\n",
    "        \n",
    "        \n",
    "        \n",
    "    return optimize.newton(ytm_func, guess)"
   ]
  },
  {
   "cell_type": "code",
   "execution_count": null,
   "metadata": {},
   "outputs": [],
   "source": []
  },
  {
   "cell_type": "code",
   "execution_count": null,
   "metadata": {},
   "outputs": [],
   "source": []
  }
 ],
 "metadata": {
  "kernelspec": {
   "display_name": "Python 3 (ipykernel)",
   "language": "python",
   "name": "python3"
  },
  "language_info": {
   "codemirror_mode": {
    "name": "ipython",
    "version": 3
   },
   "file_extension": ".py",
   "mimetype": "text/x-python",
   "name": "python",
   "nbconvert_exporter": "python",
   "pygments_lexer": "ipython3",
   "version": "3.11.5"
  }
 },
 "nbformat": 4,
 "nbformat_minor": 4
}
